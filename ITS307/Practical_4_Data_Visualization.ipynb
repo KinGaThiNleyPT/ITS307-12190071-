{
 "cells": [
  {
   "cell_type": "markdown",
   "id": "f16a56c7",
   "metadata": {
    "id": "f16a56c7"
   },
   "source": [
    "# ITS307 Data Analytics : Autumn Semester 2022\n",
    "\n",
    "# Practical 3\n",
    "\n",
    "# Data Visualization with Matplotlib and Seaborn\n",
    "\n",
    "![image-2.png](attachment:image-2.png)"
   ]
  },
  {
   "cell_type": "code",
   "execution_count": null,
   "id": "tg2DhSz9SQps",
   "metadata": {
    "colab": {
     "base_uri": "https://localhost:8080/"
    },
    "id": "tg2DhSz9SQps",
    "outputId": "676d2f10-569e-46ac-a69f-7d1596384974"
   },
   "outputs": [
    {
     "name": "stdout",
     "output_type": "stream",
     "text": [
      "Drive already mounted at /content/drive; to attempt to forcibly remount, call drive.mount(\"/content/drive\", force_remount=True).\n"
     ]
    }
   ],
   "source": [
    "from google.colab import drive\n",
    "drive.mount('/content/drive')"
   ]
  },
  {
   "cell_type": "markdown",
   "id": "851e32c8",
   "metadata": {
    "id": "851e32c8"
   },
   "source": [
    "# Table of Contents \n",
    "<ol start=\"0\">\n",
    "<li> Learning Objectives </li>\n",
    "<li> Introduction to Matplotlib and seaborn library </li>\n",
    "<li> Plotting bargraph</li>\n",
    "<li> Plotting Histogram</li>\n",
    "<li> Plotting Piechart with matplotlib </li>\n",
    "<li> Plotting Scatterplot </li>\n",
    "<li> Plotting boxplot</li>\n",
    "<li> Heatmap </li>\n",
    "</ol>"
   ]
  },
  {
   "cell_type": "markdown",
   "id": "dee6508a",
   "metadata": {
    "id": "dee6508a"
   },
   "source": [
    "## 0. Learning Objectives\n",
    "\n",
    "This lab will first familiarize matplotlib and seaborn library for data visualization and implement data visualization using seaborn and matplotlib to discover the difference in their implementation.\n",
    "\n",
    "By the end of the lab, you should be able to :\n",
    "- Explain matplotlib and seaborn library and their uses.\n",
    "\n",
    "\n",
    "- Use appropriate graphs for data visualization."
   ]
  },
  {
   "cell_type": "markdown",
   "id": "a2354b26",
   "metadata": {
    "id": "a2354b26"
   },
   "source": [
    "## 1. Introduction to Matplotlib and seaborn library\n",
    "\n",
    "Matplotlib is a comprehensive library for creating static, animated, and interactive visualizations in Python. Most of the Matplotlib utilities lies under the pyplot submodule, and are usually imported under the alias `plt.`\n",
    "![image.png](attachment:image.png)\n",
    "\n",
    "Seaborn is a Python data visualization library based on matplotlib. It provides a high-level interface for drawing attractive and informative statistical graphics.\n",
    "\n",
    "\n"
   ]
  },
  {
   "cell_type": "markdown",
   "id": "0b7f32eb",
   "metadata": {
    "id": "0b7f32eb"
   },
   "source": [
    "## 2. Plotting Bar Graph"
   ]
  },
  {
   "cell_type": "markdown",
   "id": "884f82d8",
   "metadata": {
    "id": "884f82d8"
   },
   "source": [
    "<font color=\"brown\"><b>Question :Load data from the yelp dataset. Use a bar graph to find out the number of businesses that provides take-out service and which don't provide take-out service.</b>"
   ]
  },
  {
   "cell_type": "markdown",
   "id": "a9a6565d",
   "metadata": {
    "id": "a9a6565d"
   },
   "source": [
    "### <font color='blue'>2.1. Bar Graph with Matplotlib\n",
    "    \n",
    "`matplotlib.pyplot.bar(x, height, width=0.8, bottom=None, *, align='center', data=None, **kwargs)`\n",
    "    \n"
   ]
  },
  {
   "cell_type": "code",
   "execution_count": null,
   "id": "e385ecd8",
   "metadata": {
    "id": "e385ecd8"
   },
   "outputs": [],
   "source": [
    "import matplotlib.pyplot as plt\n",
    "import pandas as pd\n",
    "import seaborn as sns"
   ]
  },
  {
   "cell_type": "code",
   "execution_count": null,
   "id": "927e33cc",
   "metadata": {
    "id": "927e33cc",
    "outputId": "42760358-d73b-4851-c200-47ed48fd31c7"
   },
   "outputs": [
    {
     "name": "stderr",
     "output_type": "stream",
     "text": [
      "C:\\ProgramData\\Anaconda3\\lib\\site-packages\\openpyxl\\worksheet\\_reader.py:312: UserWarning: Unknown extension is not supported and will be removed\n",
      "  warn(msg)\n"
     ]
    },
    {
     "data": {
      "image/png": "[encoded data removed]",
      "text/plain": [
       "<Figure size 432x288 with 1 Axes>"
      ]
     },
     "metadata": {
      "needs_background": "light"
     },
     "output_type": "display_data"
    },
    {
     "data": {
      "text/plain": [
       "True     194\n",
       "False    406\n",
       "Name: take_out, dtype: int64"
      ]
     },
     "execution_count": 49,
     "metadata": {},
     "output_type": "execute_result"
    }
   ],
   "source": [
    "#Write your solution here\n",
    "df = pd.read_excel(\"yelp.xlsx\")\n",
    "x = df.take_out.unique()\n",
    "x = [str(val) for val in x]\n",
    "y = df.take_out.value_counts().sort_values(ascending=True)\n",
    "plt.bar(x, y)\n",
    "plt.xlabel(\"Take_out\")\n",
    "plt.ylabel(\"No of business\")\n",
    "plt.show()\n",
    "y\n"
   ]
  },
  {
   "cell_type": "markdown",
   "id": "02895c20",
   "metadata": {
    "id": "02895c20"
   },
   "source": [
    "### <font color='blue'>2.1. Bar Graph with Seaborn\n",
    "    \n",
    "`seaborn.barplot(*, x=None, y=None, hue=None, data=None, order=None, hue_order=None, estimator=<function mean at 0x7ff320f315e0>, ci=95, n_boot=1000, units=None, seed=None, orient=None, color=None, palette=None, saturation=0.75, errcolor='.26', errwidth=None, capsize=None, dodge=True, ax=None, **kwargs)`"
   ]
  },
  {
   "cell_type": "code",
   "execution_count": null,
   "id": "fa89da9e",
   "metadata": {
    "id": "fa89da9e",
    "outputId": "c65def1c-60d5-46fa-f1bc-d9ff8583070b"
   },
   "outputs": [
    {
     "name": "stderr",
     "output_type": "stream",
     "text": [
      "C:\\ProgramData\\Anaconda3\\lib\\site-packages\\seaborn\\_decorators.py:36: FutureWarning: Pass the following variables as keyword args: x, y. From version 0.12, the only valid positional argument will be `data`, and passing other arguments without an explicit keyword will result in an error or misinterpretation.\n",
      "  warnings.warn(\n"
     ]
    },
    {
     "data": {
      "image/png": "[encoded data removed]",
      "text/plain": [
       "<Figure size 432x288 with 1 Axes>"
      ]
     },
     "metadata": {},
     "output_type": "display_data"
    }
   ],
   "source": [
    "#write your seaborn solution here\n",
    "sns.set_theme()\n",
    "sns.barplot(x,y)\n",
    "plt.ylabel(\"No_of business\")\n",
    "plt.xlabel(\"Take_out\")\n",
    "plt.show()"
   ]
  },
  {
   "cell_type": "markdown",
   "id": "1dd06bae",
   "metadata": {
    "id": "1dd06bae"
   },
   "source": [
    "## 3. Ploting Histogram\n",
    "\n",
    "<font color=\"brown\"><b>Question: Use a histogram graph to discover the distribution of data for the stars feature in the yelp data set.</b>"
   ]
  },
  {
   "cell_type": "markdown",
   "id": "266a3460",
   "metadata": {
    "id": "266a3460"
   },
   "source": [
    "### <font color='blue'>3.1. Histogram with Matplotlib\n",
    "    \n",
    "`matplotlib.pyplot.hist(x, bins=None, range=None, density=False, weights=None, cumulative=False, bottom=None, histtype='bar', align='mid', orientation='vertical', rwidth=None, log=False, color=None, label=None, stacked=False, *, data=None, **kwargs)[source]`\n"
   ]
  },
  {
   "cell_type": "code",
   "execution_count": null,
   "id": "321bcb98",
   "metadata": {
    "id": "321bcb98",
    "outputId": "dc141e0d-af35-475d-f3cc-e82209197c15"
   },
   "outputs": [
    {
     "data": {
      "image/png": "[encoded data removed]",
      "text/plain": [
       "<Figure size 432x288 with 1 Axes>"
      ]
     },
     "metadata": {},
     "output_type": "display_data"
    }
   ],
   "source": [
    "#Write your matplotlib solution here\n",
    "x = df.stars\n",
    "plt.hist(x, bins = 9)\n",
    "plt.xlabel(\"stars\")\n",
    "plt.ylabel(\"No_of_stars\")\n",
    "plt.show()"
   ]
  },
  {
   "cell_type": "markdown",
   "id": "8359316d",
   "metadata": {
    "id": "8359316d"
   },
   "source": [
    "### <font color='blue'>3.2. Histogram with Seaborn\n",
    "`seaborn.histplot(data=None, *, x=None, y=None, hue=None, weights=None, stat='count', bins='auto', binwidth=None, binrange=None, discrete=None, cumulative=False, common_bins=True, common_norm=True, multiple='layer', element='bars', fill=True, shrink=1, kde=False, kde_kws=None, line_kws=None, thresh=0, pthresh=None, pmax=None, cbar=False, cbar_ax=None, cbar_kws=None, palette=None, hue_order=None, hue_norm=None, color=None, log_scale=None, legend=True, ax=None, **kwargs)`"
   ]
  },
  {
   "cell_type": "code",
   "execution_count": null,
   "id": "1a918c14",
   "metadata": {
    "id": "1a918c14",
    "outputId": "b0a9f21f-709a-4b22-a27d-b3d5ab2cd085"
   },
   "outputs": [
    {
     "data": {
      "image/png": "[encoded data removed]",
      "text/plain": [
       "<Figure size 432x288 with 1 Axes>"
      ]
     },
     "metadata": {},
     "output_type": "display_data"
    }
   ],
   "source": [
    "# Write your seaborn solution here\n",
    "sns.histplot(x)\n",
    "plt.show()"
   ]
  },
  {
   "cell_type": "markdown",
   "id": "3ac8adef",
   "metadata": {
    "id": "3ac8adef"
   },
   "source": [
    "## 4. Ploting Piechart with Matplotlib\n",
    "\n",
    "<font color=\"brown\"><b>Question: `city_id` feature shows different cities in which each of the businesses is located. Use a pie chart to display the top five business hubs.</b>"
   ]
  },
  {
   "cell_type": "markdown",
   "id": "9f22d2ca",
   "metadata": {
    "id": "9f22d2ca"
   },
   "source": [
    "`matplotlib.pyplot.pie(x, explode=None, labels=None, colors=None, autopct=None, pctdistance=0.6, shadow=False, labeldistance=1.1, startangle=0, radius=1, counterclock=True, wedgeprops=None, textprops=None, center=(0, 0), frame=False, rotatelabels=False, *, normalize=True, data=None)`"
   ]
  },
  {
   "cell_type": "code",
   "execution_count": null,
   "id": "a74782ff",
   "metadata": {
    "id": "a74782ff",
    "outputId": "12eb7142-3197-4fd7-8841-b769b0d4ad18"
   },
   "outputs": [
    {
     "data": {
      "image/png": "[encoded data removed]",
      "text/plain": [
       "<Figure size 432x288 with 1 Axes>"
      ]
     },
     "metadata": {},
     "output_type": "display_data"
    }
   ],
   "source": [
    "#Write your matplotlib solution here\n",
    "x = df.city_id.value_counts()[:5]\n",
    "m_label = [(\"city \" + str(val)) for val in x.index]\n",
    "plt.pie(x, labels = m_label, autopct = '%.1f%%')\n",
    "plt.show()"
   ]
  },
  {
   "cell_type": "markdown",
   "id": "0498a329",
   "metadata": {
    "id": "0498a329"
   },
   "source": [
    "## 5. Plotting Scatter Plot\n",
    "\n",
    "Load data iris data from sklearn datasets module. The Iris Dataset contains four features (length and width of sepals and petals) of 50 samples of three species of Iris (Iris setosa, Iris virginica and Iris versicolor). These measures were used to create a linear discriminant model to classify the species\n",
    "\n",
    "<font color=\"brown\"><b>Question: Justify how sepal length and petal width features are related.</b>"
   ]
  },
  {
   "cell_type": "markdown",
   "id": "93eaf786",
   "metadata": {
    "id": "93eaf786"
   },
   "source": [
    "### <font color='blue'>5.1. Scatterplot with Matplotlib\n",
    "    \n",
    "`matplotlib.pyplot.scatter(x, y, s=None, c=None, marker=None, cmap=None, norm=None, vmin=None, vmax=None, alpha=None, linewidths=None, *, edgecolors=None, plotnonfinite=False, data=None, **kwargs)`"
   ]
  },
  {
   "cell_type": "code",
   "execution_count": null,
   "id": "987eaecd",
   "metadata": {
    "colab": {
     "base_uri": "https://localhost:8080/",
     "height": 424
    },
    "id": "987eaecd",
    "outputId": "9d6de64d-cb42-42f1-9f73-5bc00894681f"
   },
   "outputs": [
    {
     "data": {
      "text/html": [
       "\n",
       "  <div id=\"df-9b65352c-4d09-465c-b9c0-88762361d55b\">\n",
       "    <div class=\"colab-df-container\">\n",
       "      <div>\n",
       "<style scoped>\n",
       "    .dataframe tbody tr th:only-of-type {\n",
       "        vertical-align: middle;\n",
       "    }\n",
       "\n",
       "    .dataframe tbody tr th {\n",
       "        vertical-align: top;\n",
       "    }\n",
       "\n",
       "    .dataframe thead th {\n",
       "        text-align: right;\n",
       "    }\n",
       "</style>\n",
       "<table border=\"1\" class=\"dataframe\">\n",
       "  <thead>\n",
       "    <tr style=\"text-align: right;\">\n",
       "      <th></th>\n",
       "      <th>sepal length (cm)</th>\n",
       "      <th>sepal width (cm)</th>\n",
       "      <th>petal length (cm)</th>\n",
       "      <th>petal width (cm)</th>\n",
       "    </tr>\n",
       "  </thead>\n",
       "  <tbody>\n",
       "    <tr>\n",
       "      <th>0</th>\n",
       "      <td>5.1</td>\n",
       "      <td>3.5</td>\n",
       "      <td>1.4</td>\n",
       "      <td>0.2</td>\n",
       "    </tr>\n",
       "    <tr>\n",
       "      <th>1</th>\n",
       "      <td>4.9</td>\n",
       "      <td>3.0</td>\n",
       "      <td>1.4</td>\n",
       "      <td>0.2</td>\n",
       "    </tr>\n",
       "    <tr>\n",
       "      <th>2</th>\n",
       "      <td>4.7</td>\n",
       "      <td>3.2</td>\n",
       "      <td>1.3</td>\n",
       "      <td>0.2</td>\n",
       "    </tr>\n",
       "    <tr>\n",
       "      <th>3</th>\n",
       "      <td>4.6</td>\n",
       "      <td>3.1</td>\n",
       "      <td>1.5</td>\n",
       "      <td>0.2</td>\n",
       "    </tr>\n",
       "    <tr>\n",
       "      <th>4</th>\n",
       "      <td>5.0</td>\n",
       "      <td>3.6</td>\n",
       "      <td>1.4</td>\n",
       "      <td>0.2</td>\n",
       "    </tr>\n",
       "    <tr>\n",
       "      <th>...</th>\n",
       "      <td>...</td>\n",
       "      <td>...</td>\n",
       "      <td>...</td>\n",
       "      <td>...</td>\n",
       "    </tr>\n",
       "    <tr>\n",
       "      <th>145</th>\n",
       "      <td>6.7</td>\n",
       "      <td>3.0</td>\n",
       "      <td>5.2</td>\n",
       "      <td>2.3</td>\n",
       "    </tr>\n",
       "    <tr>\n",
       "      <th>146</th>\n",
       "      <td>6.3</td>\n",
       "      <td>2.5</td>\n",
       "      <td>5.0</td>\n",
       "      <td>1.9</td>\n",
       "    </tr>\n",
       "    <tr>\n",
       "      <th>147</th>\n",
       "      <td>6.5</td>\n",
       "      <td>3.0</td>\n",
       "      <td>5.2</td>\n",
       "      <td>2.0</td>\n",
       "    </tr>\n",
       "    <tr>\n",
       "      <th>148</th>\n",
       "      <td>6.2</td>\n",
       "      <td>3.4</td>\n",
       "      <td>5.4</td>\n",
       "      <td>2.3</td>\n",
       "    </tr>\n",
       "    <tr>\n",
       "      <th>149</th>\n",
       "      <td>5.9</td>\n",
       "      <td>3.0</td>\n",
       "      <td>5.1</td>\n",
       "      <td>1.8</td>\n",
       "    </tr>\n",
       "  </tbody>\n",
       "</table>\n",
       "<p>150 rows × 4 columns</p>\n",
       "</div>\n",
       "      <button class=\"colab-df-convert\" onclick=\"convertToInteractive('df-9b65352c-4d09-465c-b9c0-88762361d55b')\"\n",
       "              title=\"Convert this dataframe to an interactive table.\"\n",
       "              style=\"display:none;\">\n",
       "        \n",
       "  <svg xmlns=\"http://www.w3.org/2000/svg\" height=\"24px\"viewBox=\"0 0 24 24\"\n",
       "       width=\"24px\">\n",
       "    <path d=\"M0 0h24v24H0V0z\" fill=\"none\"/>\n",
       "    <path d=\"M18.56 5.44l.94 2.06.94-2.06 2.06-.94-2.06-.94-.94-2.06-.94 2.06-2.06.94zm-11 1L8.5 8.5l.94-2.06 2.06-.94-2.06-.94L8.5 2.5l-.94 2.06-2.06.94zm10 10l.94 2.06.94-2.06 2.06-.94-2.06-.94-.94-2.06-.94 2.06-2.06.94z\"/><path d=\"M17.41 7.96l-1.37-1.37c-.4-.4-.92-.59-1.43-.59-.52 0-1.04.2-1.43.59L10.3 9.45l-7.72 7.72c-.78.78-.78 2.05 0 2.83L4 21.41c.39.39.9.59 1.41.59.51 0 1.02-.2 1.41-.59l7.78-7.78 2.81-2.81c.8-.78.8-2.07 0-2.86zM5.41 20L4 18.59l7.72-7.72 1.47 1.35L5.41 20z\"/>\n",
       "  </svg>\n",
       "      </button>\n",
       "      \n",
       "  <style>\n",
       "    .colab-df-container {\n",
       "      display:flex;\n",
       "      flex-wrap:wrap;\n",
       "      gap: 12px;\n",
       "    }\n",
       "\n",
       "    .colab-df-convert {\n",
       "      background-color: #E8F0FE;\n",
       "      border: none;\n",
       "      border-radius: 50%;\n",
       "      cursor: pointer;\n",
       "      display: none;\n",
       "      fill: #1967D2;\n",
       "      height: 32px;\n",
       "      padding: 0 0 0 0;\n",
       "      width: 32px;\n",
       "    }\n",
       "\n",
       "    .colab-df-convert:hover {\n",
       "      background-color: #E2EBFA;\n",
       "      box-shadow: 0px 1px 2px rgba(60, 64, 67, 0.3), 0px 1px 3px 1px rgba(60, 64, 67, 0.15);\n",
       "      fill: #174EA6;\n",
       "    }\n",
       "\n",
       "    [theme=dark] .colab-df-convert {\n",
       "      background-color: #3B4455;\n",
       "      fill: #D2E3FC;\n",
       "    }\n",
       "\n",
       "    [theme=dark] .colab-df-convert:hover {\n",
       "      background-color: #434B5C;\n",
       "      box-shadow: 0px 1px 3px 1px rgba(0, 0, 0, 0.15);\n",
       "      filter: drop-shadow(0px 1px 2px rgba(0, 0, 0, 0.3));\n",
       "      fill: #FFFFFF;\n",
       "    }\n",
       "  </style>\n",
       "\n",
       "      <script>\n",
       "        const buttonEl =\n",
       "          document.querySelector('#df-9b65352c-4d09-465c-b9c0-88762361d55b button.colab-df-convert');\n",
       "        buttonEl.style.display =\n",
       "          google.colab.kernel.accessAllowed ? 'block' : 'none';\n",
       "\n",
       "        async function convertToInteractive(key) {\n",
       "          const element = document.querySelector('#df-9b65352c-4d09-465c-b9c0-88762361d55b');\n",
       "          const dataTable =\n",
       "            await google.colab.kernel.invokeFunction('convertToInteractive',\n",
       "                                                     [key], {});\n",
       "          if (!dataTable) return;\n",
       "\n",
       "          const docLinkHtml = 'Like what you see? Visit the ' +\n",
       "            '<a target=\"_blank\" href=https://colab.research.google.com/notebooks/data_table.ipynb>data table notebook</a>'\n",
       "            + ' to learn more about interactive tables.';\n",
       "          element.innerHTML = '';\n",
       "          dataTable['output_type'] = 'display_data';\n",
       "          await google.colab.output.renderOutput(dataTable, element);\n",
       "          const docLink = document.createElement('div');\n",
       "          docLink.innerHTML = docLinkHtml;\n",
       "          element.appendChild(docLink);\n",
       "        }\n",
       "      </script>\n",
       "    </div>\n",
       "  </div>\n",
       "  "
      ],
      "text/plain": [
       "     sepal length (cm)  sepal width (cm)  petal length (cm)  petal width (cm)\n",
       "0                  5.1               3.5                1.4               0.2\n",
       "1                  4.9               3.0                1.4               0.2\n",
       "2                  4.7               3.2                1.3               0.2\n",
       "3                  4.6               3.1                1.5               0.2\n",
       "4                  5.0               3.6                1.4               0.2\n",
       "..                 ...               ...                ...               ...\n",
       "145                6.7               3.0                5.2               2.3\n",
       "146                6.3               2.5                5.0               1.9\n",
       "147                6.5               3.0                5.2               2.0\n",
       "148                6.2               3.4                5.4               2.3\n",
       "149                5.9               3.0                5.1               1.8\n",
       "\n",
       "[150 rows x 4 columns]"
      ]
     },
     "execution_count": 25,
     "metadata": {},
     "output_type": "execute_result"
    }
   ],
   "source": [
    "from sklearn.datasets import load_iris\n",
    "iris = load_iris()\n",
    "iris.feature_names\n",
    "idf = pd.DataFrame(data=iris.data, columns = iris.feature_names)\n",
    "idf"
   ]
  },
  {
   "cell_type": "code",
   "execution_count": null,
   "id": "55cd6144",
   "metadata": {
    "colab": {
     "base_uri": "https://localhost:8080/",
     "height": 279
    },
    "id": "55cd6144",
    "outputId": "c37d5d2d-081b-4c5e-dbf1-4a2113c30df8"
   },
   "outputs": [
    {
     "data": {
      "image/png": "[encoded data removed]",
      "text/plain": [
       "<Figure size 432x288 with 1 Axes>"
      ]
     },
     "metadata": {
      "needs_background": "light"
     },
     "output_type": "display_data"
    }
   ],
   "source": [
    "#Solution\n",
    "x= idf['sepal length (cm)']\n",
    "y = idf['petal width (cm)']\n",
    "plt.scatter(x,y)\n",
    "plt.xlabel(\"Sepal Length\")\n",
    "plt.ylabel('Petal Width')\n",
    "plt.show()"
   ]
  },
  {
   "cell_type": "markdown",
   "id": "b662af16",
   "metadata": {
    "id": "b662af16"
   },
   "source": [
    "### <font color='blue'>5.2. Scatterplot with Seaborn\n",
    "    \n",
    "`seaborn.scatterplot(*, x=None, y=None, hue=None, style=None, size=None, data=None, palette=None, hue_order=None, hue_norm=None, sizes=None, size_order=None, size_norm=None, markers=True, style_order=None, x_bins=None, y_bins=None, units=None, estimator=None, ci=95, n_boot=1000, alpha=None, x_jitter=None, y_jitter=None, legend='auto', ax=None, **kwargs)`"
   ]
  },
  {
   "cell_type": "code",
   "execution_count": null,
   "id": "7748191c",
   "metadata": {
    "id": "7748191c",
    "outputId": "d96f4b50-b3ee-4e34-d44e-ca3819f5b655"
   },
   "outputs": [
    {
     "name": "stderr",
     "output_type": "stream",
     "text": [
      "C:\\ProgramData\\Anaconda3\\lib\\site-packages\\seaborn\\_decorators.py:36: FutureWarning: Pass the following variables as keyword args: x, y. From version 0.12, the only valid positional argument will be `data`, and passing other arguments without an explicit keyword will result in an error or misinterpretation.\n",
      "  warnings.warn(\n"
     ]
    },
    {
     "data": {
      "image/png": "[encoded data removed]",
      "text/plain": [
       "<Figure size 432x288 with 1 Axes>"
      ]
     },
     "metadata": {},
     "output_type": "display_data"
    }
   ],
   "source": [
    "#Solution\n",
    "sns.scatterplot(x,y)\n",
    "plt.show()"
   ]
  },
  {
   "cell_type": "markdown",
   "id": "93302e60",
   "metadata": {
    "id": "93302e60"
   },
   "source": [
    "## 6. Ploting Boxplot\n",
    "\n",
    "<font color=\"brown\"><b>Question: Use the same iris dataset used in section 5. Use a boxplot to discover outliers in any of the given features in the iris dataset.</b>"
   ]
  },
  {
   "cell_type": "markdown",
   "id": "39819c56",
   "metadata": {
    "id": "39819c56"
   },
   "source": [
    "### <font color='blue'>6.1. Boxplot with Matplotlib"
   ]
  },
  {
   "cell_type": "markdown",
   "id": "1b7cde94",
   "metadata": {
    "id": "1b7cde94"
   },
   "source": [
    "`matplotlib.pyplot.boxplot(x, notch=None, sym=None, vert=None, whis=None, positions=None, widths=None, patch_artist=None, bootstrap=None, usermedians=None, conf_intervals=None, meanline=None, showmeans=None, showcaps=None, showbox=None, showfliers=None, boxprops=None, labels=None, flierprops=None, medianprops=None, meanprops=None, capprops=None, whiskerprops=None, manage_ticks=True, autorange=False, zorder=None, *, data=None)[source]`"
   ]
  },
  {
   "cell_type": "code",
   "execution_count": null,
   "id": "3149e334",
   "metadata": {
    "id": "3149e334",
    "outputId": "433e3dd1-7ed3-42b4-c2c7-9b05c188b66a"
   },
   "outputs": [
    {
     "data": {
      "image/png": "[encoded data removed]",
      "text/plain": [
       "<Figure size 432x288 with 1 Axes>"
      ]
     },
     "metadata": {},
     "output_type": "display_data"
    }
   ],
   "source": [
    "#Solution\n",
    "plt.boxplot(idf['petal length (cm)'])\n",
    "plt.show()\n"
   ]
  },
  {
   "cell_type": "code",
   "execution_count": null,
   "id": "52081fd9",
   "metadata": {
    "colab": {
     "base_uri": "https://localhost:8080/",
     "height": 265
    },
    "id": "52081fd9",
    "outputId": "bcc27f55-a9dc-4414-b9d3-9de4074410e6"
   },
   "outputs": [
    {
     "data": {
      "image/png": "[encoded data removed]",
      "text/plain": [
       "<Figure size 432x288 with 1 Axes>"
      ]
     },
     "metadata": {
      "needs_background": "light"
     },
     "output_type": "display_data"
    }
   ],
   "source": [
    "plt.boxplot(idf['petal width (cm)'])\n",
    "plt.show()"
   ]
  },
  {
   "cell_type": "code",
   "execution_count": null,
   "id": "9d8de31a",
   "metadata": {
    "colab": {
     "base_uri": "https://localhost:8080/",
     "height": 265
    },
    "id": "9d8de31a",
    "outputId": "dbe36b11-a9d8-40a1-c95a-8f8caf521f8d"
   },
   "outputs": [
    {
     "data": {
      "image/png": "[encoded data removed]",
      "text/plain": [
       "<Figure size 432x288 with 1 Axes>"
      ]
     },
     "metadata": {
      "needs_background": "light"
     },
     "output_type": "display_data"
    }
   ],
   "source": [
    "plt.boxplot(idf['sepal length (cm)'])\n",
    "plt.show()"
   ]
  },
  {
   "cell_type": "code",
   "execution_count": null,
   "id": "e95fbce0",
   "metadata": {
    "id": "e95fbce0",
    "outputId": "c35ed24b-ae5b-4b5b-edb1-e9254da15e55"
   },
   "outputs": [
    {
     "data": {
      "image/png": "[encoded data removed]",
      "text/plain": [
       "<Figure size 432x288 with 1 Axes>"
      ]
     },
     "metadata": {},
     "output_type": "display_data"
    }
   ],
   "source": [
    "plt.boxplot(idf['sepal width (cm)'])\n",
    "plt.show()"
   ]
  },
  {
   "cell_type": "markdown",
   "id": "cc8f6946",
   "metadata": {
    "id": "cc8f6946"
   },
   "source": [
    "### <font color='blue'>6.2. Boxplot with Seaborn\n",
    "    \n",
    "`seaborn.boxplot(*, x=None, y=None, hue=None, data=None, order=None, hue_order=None, orient=None, color=None, palette=None, saturation=0.75, width=0.8, dodge=True, fliersize=5, linewidth=None, whis=1.5, ax=None, **kwargs)¶`"
   ]
  },
  {
   "cell_type": "code",
   "execution_count": null,
   "id": "56b0f650",
   "metadata": {
    "id": "56b0f650",
    "outputId": "3ac56aaf-a886-4097-a2aa-06281fc758fe"
   },
   "outputs": [
    {
     "name": "stderr",
     "output_type": "stream",
     "text": [
      "C:\\ProgramData\\Anaconda3\\lib\\site-packages\\seaborn\\_decorators.py:36: FutureWarning: Pass the following variable as a keyword arg: x. From version 0.12, the only valid positional argument will be `data`, and passing other arguments without an explicit keyword will result in an error or misinterpretation.\n",
      "  warnings.warn(\n"
     ]
    },
    {
     "data": {
      "image/png": "[encoded data removed]",
      "text/plain": [
       "<Figure size 432x288 with 1 Axes>"
      ]
     },
     "metadata": {},
     "output_type": "display_data"
    }
   ],
   "source": [
    "#Solution\n",
    "sns.boxplot(idf['petal length (cm)'])\n",
    "plt.show()"
   ]
  },
  {
   "cell_type": "code",
   "execution_count": null,
   "id": "01979c87",
   "metadata": {
    "id": "01979c87",
    "outputId": "798d035b-0cf3-4b08-801e-96a133ed6879"
   },
   "outputs": [
    {
     "name": "stderr",
     "output_type": "stream",
     "text": [
      "C:\\ProgramData\\Anaconda3\\lib\\site-packages\\seaborn\\_decorators.py:36: FutureWarning: Pass the following variable as a keyword arg: x. From version 0.12, the only valid positional argument will be `data`, and passing other arguments without an explicit keyword will result in an error or misinterpretation.\n",
      "  warnings.warn(\n"
     ]
    },
    {
     "data": {
      "image/png": "[encoded data removed]",
      "text/plain": [
       "<Figure size 432x288 with 1 Axes>"
      ]
     },
     "metadata": {},
     "output_type": "display_data"
    }
   ],
   "source": [
    "sns.boxplot(idf['petal width (cm)'])\n",
    "plt.show()"
   ]
  },
  {
   "cell_type": "code",
   "execution_count": null,
   "id": "d1b9e760",
   "metadata": {
    "id": "d1b9e760",
    "outputId": "7c58c856-f651-4b09-b2b6-48d1e42996a3"
   },
   "outputs": [
    {
     "name": "stderr",
     "output_type": "stream",
     "text": [
      "C:\\ProgramData\\Anaconda3\\lib\\site-packages\\seaborn\\_decorators.py:36: FutureWarning: Pass the following variable as a keyword arg: x. From version 0.12, the only valid positional argument will be `data`, and passing other arguments without an explicit keyword will result in an error or misinterpretation.\n",
      "  warnings.warn(\n"
     ]
    },
    {
     "data": {
      "image/png": "[encoded data removed]",
      "text/plain": [
       "<Figure size 432x288 with 1 Axes>"
      ]
     },
     "metadata": {},
     "output_type": "display_data"
    }
   ],
   "source": [
    "sns.boxplot(idf['sepal length (cm)'])\n",
    "plt.show()"
   ]
  },
  {
   "cell_type": "code",
   "execution_count": null,
   "id": "55e6916d",
   "metadata": {
    "id": "55e6916d",
    "outputId": "2663795f-4203-406b-be4d-bd17ef05ede7"
   },
   "outputs": [
    {
     "name": "stderr",
     "output_type": "stream",
     "text": [
      "C:\\ProgramData\\Anaconda3\\lib\\site-packages\\seaborn\\_decorators.py:36: FutureWarning: Pass the following variable as a keyword arg: x. From version 0.12, the only valid positional argument will be `data`, and passing other arguments without an explicit keyword will result in an error or misinterpretation.\n",
      "  warnings.warn(\n"
     ]
    },
    {
     "data": {
      "image/png": "[encoded data removed]",
      "text/plain": [
       "<Figure size 432x288 with 1 Axes>"
      ]
     },
     "metadata": {},
     "output_type": "display_data"
    }
   ],
   "source": [
    "sns.boxplot(idf['sepal width (cm)'])\n",
    "plt.show()"
   ]
  },
  {
   "cell_type": "markdown",
   "id": "64e532d6",
   "metadata": {
    "id": "64e532d6"
   },
   "source": [
    "## 7. HeatMap\n",
    "\n",
    "`seaborn.heatmap(data, *, vmin=None, vmax=None, cmap=None, center=None, robust=False, annot=None, fmt='.2g', annot_kws=None, linewidths=0, linecolor='white', cbar=True, cbar_kws=None, cbar_ax=None, square=False, xticklabels='auto', yticklabels='auto', mask=None, ax=None, **kwargs)`\n",
    "\n",
    "\n",
    "<font color=\"brown\"><b>Question: Use the same iris dataset used in section 5. Use heatmap to represent multicollinearity of features in iris dataset</b>"
   ]
  },
  {
   "cell_type": "code",
   "execution_count": null,
   "id": "33cf2b9e",
   "metadata": {
    "id": "33cf2b9e",
    "outputId": "e3ba0ae5-e6ad-4a96-a440-c2fc7526d06d"
   },
   "outputs": [
    {
     "data": {
      "image/png": "[encoded data removed]",
      "text/plain": [
       "<Figure size 432x288 with 2 Axes>"
      ]
     },
     "metadata": {},
     "output_type": "display_data"
    }
   ],
   "source": [
    "#Solution \n",
    "corr = idf.corr()\n",
    "corr\n",
    "sns.heatmap(corr, annot = True)\n",
    "plt.show()"
   ]
  },
  {
   "cell_type": "markdown",
   "id": "be62d419",
   "metadata": {
    "id": "be62d419"
   },
   "source": [
    "# Homework/TODO 3: Data Visualization"
   ]
  },
  {
   "cell_type": "markdown",
   "id": "f06247a9",
   "metadata": {
    "id": "f06247a9"
   },
   "source": [
    "<font color=\"brown\"><b>\n",
    "    Instructions:\n",
    "    - Use yelp dataset to solve following questions.\n",
    "    \n",
    "    1. Display five highly rated restaurant businesses.\n",
    "    \n",
    "    2. What is the average rating of each city in their businesses? Choose the five best cities.\n",
    "    \n",
    "    3. In each state, discover the highly reviewed businesses.\n",
    "</b>"
   ]
  },
  {
   "cell_type": "code",
   "execution_count": null,
   "id": "ed1e2655",
   "metadata": {
    "colab": {
     "base_uri": "https://localhost:8080/"
    },
    "id": "ed1e2655",
    "outputId": "d66f8bb7-fc28-4de3-cfc9-b75d91a8e2ce"
   },
   "outputs": [
    {
     "name": "stderr",
     "output_type": "stream",
     "text": [
      "/usr/local/lib/python3.7/dist-packages/openpyxl/worksheet/_reader.py:312: UserWarning: Unknown extension is not supported and will be removed\n",
      "  warn(msg)\n"
     ]
    }
   ],
   "source": [
    "df = pd.read_excel(\"yelp.xlsx\")\n",
    "restaurants = df.loc[df['category_0']=='Restaurants']\n"
   ]
  },
  {
   "cell_type": "code",
   "execution_count": null,
   "id": "UVvKeoTMUyfi",
   "metadata": {
    "colab": {
     "base_uri": "https://localhost:8080/"
    },
    "id": "UVvKeoTMUyfi",
    "outputId": "38923bbf-bee7-4db7-cc43-2ff9242ef45b"
   },
   "outputs": [
    {
     "data": {
      "text/plain": [
       "<pandas.core.groupby.generic.DataFrameGroupBy object at 0x7fca5efcdf10>"
      ]
     },
     "execution_count": 21,
     "metadata": {},
     "output_type": "execute_result"
    }
   ],
   "source": [
    "city = df.groupby(['city_id'], axis=0, as_index=True)\n"
   ]
  },
  {
   "cell_type": "markdown",
   "id": "1312128f",
   "metadata": {
    "id": "1312128f"
   },
   "source": [
    "# THANK YOU"
   ]
  }
 ],
 "metadata": {
  "colab": {
   "provenance": []
  },
  "kernelspec": {
   "display_name": "Python 3 (ipykernel)",
   "language": "python",
   "name": "python3"
  },
  "language_info": {
   "codemirror_mode": {
    "name": "ipython",
    "version": 3
   },
   "file_extension": ".py",
   "mimetype": "text/x-python",
   "name": "python",
   "nbconvert_exporter": "python",
   "pygments_lexer": "ipython3",
   "version": "3.8.10"
  }
 },
 "nbformat": 4,
 "nbformat_minor": 5
}
